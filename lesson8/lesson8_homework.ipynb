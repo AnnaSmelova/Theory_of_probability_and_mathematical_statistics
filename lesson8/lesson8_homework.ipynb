{
 "cells": [
  {
   "cell_type": "markdown",
   "metadata": {},
   "source": [
    "**Автор: Анна Смелова**"
   ]
  },
  {
   "cell_type": "markdown",
   "metadata": {},
   "source": [
    "## Решение домашнего задания к уроку 8 “Дисперсионный анализ. Логистическая регрессия”"
   ]
  },
  {
   "cell_type": "code",
   "execution_count": 1,
   "metadata": {},
   "outputs": [],
   "source": [
    "import numpy as np\n",
    "from scipy import stats"
   ]
  },
  {
   "cell_type": "markdown",
   "metadata": {},
   "source": [
    "### 1. Задача\n",
    "#### Провести дисперсионный анализ для определения того, есть ли различия среднего роста среди взрослых футболистов, хоккеистов и штангистов. Даны значения роста в трех группах случайно выбранных спортсменов: \n",
    "#### Футболисты: 173, 175, 180, 178, 177, 185, 183, 182. \n",
    "#### Хоккеисты: 177, 179, 180, 188, 177, 172, 171, 184, 180. \n",
    "#### Штангисты: 172, 173, 169, 177, 166, 180, 178, 177, 172, 166, 170."
   ]
  },
  {
   "cell_type": "markdown",
   "metadata": {},
   "source": [
    "**<font color='darkblue'>Решение:</font>**<br>"
   ]
  },
  {
   "cell_type": "markdown",
   "metadata": {},
   "source": [
    "$H_0: \\mu_1=\\mu_2=\\mu_3$<br>\n",
    "$H_1: \\mu_1\\neq\\mu_2\\neq\\mu_3$<br><br>\n",
    "$\\alpha=0.05$"
   ]
  },
  {
   "cell_type": "code",
   "execution_count": 2,
   "metadata": {},
   "outputs": [
    {
     "name": "stdout",
     "output_type": "stream",
     "text": [
      "Футболисты: [173 175 180 178 177 185 183 182]\n",
      "Хоккеисты: [177 179 180 188 177 172 171 184 180]\n",
      "Штангисты: [172 173 169 177 166 180 178 177 172 166 170]\n"
     ]
    }
   ],
   "source": [
    "y1 = np.array([173, 175, 180, 178, 177, 185, 183, 182])\n",
    "y2 = np.array([177, 179, 180, 188, 177, 172, 171, 184, 180])\n",
    "y3 = np.array([172, 173, 169, 177, 166, 180, 178, 177, 172, 166, 170])\n",
    "print(f'Футболисты: {y1}')\n",
    "print(f'Хоккеисты: {y2}')\n",
    "print(f'Штангисты: {y3}')"
   ]
  },
  {
   "cell_type": "code",
   "execution_count": 3,
   "metadata": {},
   "outputs": [
    {
     "name": "stdout",
     "output_type": "stream",
     "text": [
      "Общее число наблюдений: 28\n"
     ]
    }
   ],
   "source": [
    "n = len(y1) + len(y2) + len(y3)\n",
    "print(f'Общее число наблюдений: {n}')"
   ]
  },
  {
   "cell_type": "code",
   "execution_count": 4,
   "metadata": {},
   "outputs": [
    {
     "name": "stdout",
     "output_type": "stream",
     "text": [
      "Среднее значение переменной Y на 1-м уровне: 179.125\n",
      "Среднее значение переменной Y на 2-м уровне: 178.66666666666666\n",
      "Среднее значение переменной Y на 3-м уровне: 172.72727272727272\n"
     ]
    }
   ],
   "source": [
    "y1_mean = np.mean(y1)\n",
    "y2_mean = np.mean(y2)\n",
    "y3_mean = np.mean(y3)\n",
    "print(f'Среднее значение переменной Y на 1-м уровне: {y1_mean}')\n",
    "print(f'Среднее значение переменной Y на 2-м уровне: {y2_mean}')\n",
    "print(f'Среднее значение переменной Y на 3-м уровне: {y3_mean}')"
   ]
  },
  {
   "cell_type": "code",
   "execution_count": 5,
   "metadata": {},
   "outputs": [
    {
     "name": "stdout",
     "output_type": "stream",
     "text": [
      "Среднее значение переменной Y по всем значениям: 176.46428571428572\n"
     ]
    }
   ],
   "source": [
    "y_mean = (y1_mean * len(y1) + y2_mean * len(y2) + y3_mean * len(y3)) / n\n",
    "print(f'Среднее значение переменной Y по всем значениям: {y_mean}')"
   ]
  },
  {
   "cell_type": "code",
   "execution_count": 6,
   "metadata": {},
   "outputs": [
    {
     "name": "stdout",
     "output_type": "stream",
     "text": [
      "Сумма квадратов отклонений средних групповых значений от общего среднего значения: 253.9074675324678\n"
     ]
    }
   ],
   "source": [
    "SF = len(y1) * (y1_mean - y_mean)**2 + len(y2) * (y2_mean - y_mean)**2 + len(y3) * (y3_mean - y_mean)**2   \n",
    "print(f'Сумма квадратов отклонений средних групповых значений от общего среднего значения: {SF}')"
   ]
  },
  {
   "cell_type": "code",
   "execution_count": 7,
   "metadata": {},
   "outputs": [
    {
     "name": "stdout",
     "output_type": "stream",
     "text": [
      "Остаточная сумма квадратов отклонений: 577.0568181818182\n"
     ]
    }
   ],
   "source": [
    "SO = ((y1 - y1_mean)**2).sum() + ((y2 - y2_mean)**2).sum() + ((y3 - y3_mean)**2).sum()\n",
    "print(f'Остаточная сумма квадратов отклонений: {SO}')"
   ]
  },
  {
   "cell_type": "code",
   "execution_count": 8,
   "metadata": {},
   "outputs": [
    {
     "name": "stdout",
     "output_type": "stream",
     "text": [
      "Сумма квадратов отклонений наблюдений от общего среднего: 830.964285714286\n"
     ]
    }
   ],
   "source": [
    "S = SO + SF\n",
    "print(f'Сумма квадратов отклонений наблюдений от общего среднего: {S}')"
   ]
  },
  {
   "cell_type": "code",
   "execution_count": 9,
   "metadata": {},
   "outputs": [
    {
     "name": "stdout",
     "output_type": "stream",
     "text": [
      "Факторная дисперсия: 126.9537337662339\n"
     ]
    }
   ],
   "source": [
    "DF = SF / (3 - 1) \n",
    "print(f'Факторная дисперсия: {DF}')"
   ]
  },
  {
   "cell_type": "code",
   "execution_count": 10,
   "metadata": {},
   "outputs": [
    {
     "name": "stdout",
     "output_type": "stream",
     "text": [
      "Остаточная дисперсия: 23.08227272727273\n"
     ]
    }
   ],
   "source": [
    "DO = SO / (n - 3)\n",
    "print(f'Остаточная дисперсия: {DO}')"
   ]
  },
  {
   "cell_type": "code",
   "execution_count": 11,
   "metadata": {},
   "outputs": [
    {
     "name": "stdout",
     "output_type": "stream",
     "text": [
      "Критерий Фишера: 5.500053450812598\n"
     ]
    }
   ],
   "source": [
    "FH = DF / DO\n",
    "print(f'Критерий Фишера: {FH}')"
   ]
  },
  {
   "cell_type": "markdown",
   "metadata": {},
   "source": [
    "Табличное значение критерия Фишера: ($\\alpha=0.05,v_1=2,v_2=25$) $FT=3.38$"
   ]
  },
  {
   "cell_type": "markdown",
   "metadata": {},
   "source": [
    "$5.5>3.38\\Rightarrow$ выборки имеют статистически значимые различия, принимаем гипотезу $H_1$."
   ]
  },
  {
   "cell_type": "code",
   "execution_count": 12,
   "metadata": {},
   "outputs": [
    {
     "data": {
      "text/plain": [
       "F_onewayResult(statistic=5.500053450812596, pvalue=0.010482206918698694)"
      ]
     },
     "execution_count": 12,
     "metadata": {},
     "output_type": "execute_result"
    }
   ],
   "source": [
    "# Проверка \n",
    "stats.f_oneway(y1,y2,y3)"
   ]
  },
  {
   "cell_type": "markdown",
   "metadata": {},
   "source": [
    "Так как $p<\\alpha$, то выборки имеют статистически значимые различия."
   ]
  }
 ],
 "metadata": {
  "kernelspec": {
   "display_name": "Python 3",
   "language": "python",
   "name": "python3"
  },
  "language_info": {
   "codemirror_mode": {
    "name": "ipython",
    "version": 3
   },
   "file_extension": ".py",
   "mimetype": "text/x-python",
   "name": "python",
   "nbconvert_exporter": "python",
   "pygments_lexer": "ipython3",
   "version": "3.7.3"
  }
 },
 "nbformat": 4,
 "nbformat_minor": 2
}
