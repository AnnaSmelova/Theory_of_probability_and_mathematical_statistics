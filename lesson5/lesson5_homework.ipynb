{
 "cells": [
  {
   "cell_type": "markdown",
   "metadata": {},
   "source": [
    "**Автор: Анна Смелова**"
   ]
  },
  {
   "cell_type": "markdown",
   "metadata": {},
   "source": [
    "## Решение домашнего задания к уроку 5 “Проверка статистических гипотез. P-значения. Доверительные интервалы. A/B-тестирование”"
   ]
  },
  {
   "cell_type": "code",
   "execution_count": 1,
   "metadata": {},
   "outputs": [],
   "source": [
    "import numpy as np"
   ]
  },
  {
   "cell_type": "markdown",
   "metadata": {},
   "source": [
    "### 1. Задача\n",
    "#### Известно, что генеральная совокупность распределена нормально со средним квадратическим отклонением, равным 16. Найти доверительный интервал для оценки математического ожидания a с надежностью 0.95, если выборочная средняя M = 80, а объем выборки n = 256."
   ]
  },
  {
   "cell_type": "markdown",
   "metadata": {},
   "source": [
    "**<font color='darkblue'>Решение:</font>**<br>"
   ]
  },
  {
   "cell_type": "markdown",
   "metadata": {},
   "source": [
    "**Теория:**<br>\n",
    "$T_{1,2} = \\overline{X} \\pm \\frac{s_0}{\\sqrt{n}} \\cdot c_{\\gamma}$<br>\n",
    "где $T_1$, $T_2$ — нижняя и верхняя границы доверительного интервала,<br>\n",
    "$\\overline{X}$  — выборочное среднее арифметическое,<br>\n",
    "$s_0$ — среднее квадратичное отклонение по выборке (несмещенное),<br>\n",
    "$n$ — размер выборки,<br>\n",
    "$\\gamma$ — доверительная вероятность.<br>\n",
    "$c_{\\gamma} = Ф^{-1} \\frac{(1 + \\gamma)}{2}$ — обратное значение функции стандартного нормального распределения. То есть это количество стандартных ошибок от среднего арифметического до нижней или верхней границы."
   ]
  },
  {
   "cell_type": "markdown",
   "metadata": {},
   "source": [
    "**В задаче:**<br>\n",
    "$\\overline{X}=M=80$<br>\n",
    "$s_0=\\sigma=16$<br>\n",
    "$n=256$<br>\n",
    "$\\gamma=0.95$<br>\n",
    "95% всех выборочных средних лежат в диапазоне $\\mu\\pm1.96\\sigma \\Rightarrow$\n",
    "$c_{\\gamma} = 1.96$<br><br>\n",
    "$T_1=80-1.96\\cdot\\frac{16}{\\sqrt{256}}=80-1.96=78.04$<br>\n",
    "$T_2=80+1.96\\cdot\\frac{16}{\\sqrt{256}}=80+1.96=81.96$"
   ]
  },
  {
   "cell_type": "markdown",
   "metadata": {},
   "source": [
    "**<font color='darkblue'>Ответ: (78.04, 81.96).</font>**"
   ]
  },
  {
   "cell_type": "markdown",
   "metadata": {},
   "source": [
    "### 2. Задача\n",
    "#### В результате 10 независимых измерений некоторой величины X, выполненных с одинаковой точностью, получены опытные данные: 6.9, 6.1, 6.2, 6.8, 7.5, 6.3, 6.4, 6.9, 6.7, 6.1 Предполагая, что результаты измерений подчинены нормальному закону распределения вероятностей, оценить истинное значение величины X при помощи доверительного интервала, покрывающего это значение с доверительной вероятностью 0,95."
   ]
  },
  {
   "cell_type": "markdown",
   "metadata": {},
   "source": [
    "**<font color='darkblue'>Решение:</font>**<br>"
   ]
  },
  {
   "cell_type": "markdown",
   "metadata": {},
   "source": [
    "Выборочное среднее $\\overline X=\\frac{6.9+6.1+6.2+6.8+7.5+6.3+6.4+6.9+6.7+6.1}{10}=6.59$"
   ]
  },
  {
   "cell_type": "code",
   "execution_count": 2,
   "metadata": {},
   "outputs": [
    {
     "name": "stdout",
     "output_type": "stream",
     "text": [
      "X=6.590000000000001\n"
     ]
    }
   ],
   "source": [
    "a = [6.9, 6.1, 6.2, 6.8, 7.5, 6.3, 6.4, 6.9, 6.7, 6.1]\n",
    "print(f'X={np.mean(a)}')"
   ]
  },
  {
   "cell_type": "markdown",
   "metadata": {},
   "source": [
    "Среднее квадратическое отклонение $\\sigma$:"
   ]
  },
  {
   "cell_type": "code",
   "execution_count": 3,
   "metadata": {},
   "outputs": [
    {
     "name": "stdout",
     "output_type": "stream",
     "text": [
      "sigma=0.4508017549014448\n"
     ]
    }
   ],
   "source": [
    "print(f'sigma={np.std(a, ddof=1)}')"
   ]
  },
  {
   "cell_type": "markdown",
   "metadata": {},
   "source": [
    "$T_1=6.59-1.96\\cdot\\frac{0.4508}{\\sqrt{10}}=6.3106$<br>\n",
    "$T_2=6.59+1.96\\cdot\\frac{0.4508}{\\sqrt{10}}=6.8694$"
   ]
  },
  {
   "cell_type": "code",
   "execution_count": 4,
   "metadata": {},
   "outputs": [
    {
     "name": "stdout",
     "output_type": "stream",
     "text": [
      "T1=6.3105912652360345\n",
      "T2=6.869408734763965\n"
     ]
    }
   ],
   "source": [
    "T1 = 6.59 - 1.96*0.4508 / (10)**0.5\n",
    "T2 = 6.59 + 1.96*0.4508 / (10)**0.5\n",
    "print(f'T1={T1}')\n",
    "print(f'T2={T2}')"
   ]
  },
  {
   "cell_type": "markdown",
   "metadata": {},
   "source": [
    "**<font color='darkblue'>Ответ: истинное значение величины $X$ с вероятностью 95% лежит в диапазоне $(6.3106, 6.8694)$.</font>**"
   ]
  },
  {
   "cell_type": "markdown",
   "metadata": {},
   "source": [
    "### 3. Задача (решать через тестирование гипотезы)\n",
    "#### Утверждается, что шарики для подшипников, изготовленные автоматическим станком, имеют средний диаметр 17 мм.\n",
    "#### Используя односторонний критерий с α=0,05, проверить эту гипотезу, если в выборке из n=100 шариков средний диаметр оказался равным 17.5 мм, а дисперсия известна и равна 4 кв.мм."
   ]
  },
  {
   "cell_type": "markdown",
   "metadata": {},
   "source": [
    "**<font color='darkblue'>Решение:</font>**<br>\n",
    "$H_0:\\mu=17$<br>\n",
    "$H_1:\\mu>17$"
   ]
  },
  {
   "cell_type": "markdown",
   "metadata": {},
   "source": [
    "$k_p=\\frac{17.5-17}{\\sqrt{4}}\\cdot\\sqrt{100}=\\frac{5}{2}=2.5$<br>\n",
    "$k_t=1.645$ для $\\alpha=0.05$<br><br>\n",
    "Так как $k_p>k_t$, то можем отклонить нулевую гипотезу."
   ]
  },
  {
   "cell_type": "markdown",
   "metadata": {},
   "source": [
    "**<font color='darkblue'>Ответ: исходная гипотеза неверна.</font>**"
   ]
  },
  {
   "cell_type": "markdown",
   "metadata": {},
   "source": [
    "### 4. Задача (решать через тестирование гипотезы)\n",
    "#### Продавец утверждает, что средний вес пачки печенья составляет 200 г. Из партии извлечена выборка из 10 пачек. Вес каждой пачки составляет: 202, 203, 199, 197, 195, 201, 200, 204, 194, 190. Известно, что их веса распределены нормально. Верно ли утверждение продавца, если учитывать, что доверительная вероятность равна 99%?"
   ]
  },
  {
   "cell_type": "markdown",
   "metadata": {},
   "source": [
    "**<font color='darkblue'>Решение:</font>**<br>"
   ]
  },
  {
   "cell_type": "code",
   "execution_count": 5,
   "metadata": {},
   "outputs": [
    {
     "name": "stdout",
     "output_type": "stream",
     "text": [
      "Выборочное среднее: 198.5\n",
      "Несмещенное среднее квадратическое отклонение: 4.453463071962462\n"
     ]
    }
   ],
   "source": [
    "a = [202, 203, 199, 197, 195, 201, 200, 204, 194, 190]\n",
    "print(f'Выборочное среднее: {np.mean(a)}')\n",
    "print(f'Несмещенное среднее квадратическое отклонение: {np.std(a, ddof=1)}')"
   ]
  },
  {
   "cell_type": "markdown",
   "metadata": {},
   "source": [
    "$H_0:\\mu=200$<br>\n",
    "$H_1:\\mu\\neq200$<br><br>\n",
    "$k_p=\\frac{198.5-200}{4.45}\\cdot\\sqrt{10}=-1.0659$<br>\n",
    "По таблице критических точек распределения Стьюдента найдем критическую точку по уровню значимости $\\alpha=0,01$ и числу степеней свободы $9$ , откуда $k_t=3,25$.<br><br>\n",
    "Так как $|k_p|<k_t$, то нулевую гипотезу можно принять."
   ]
  },
  {
   "cell_type": "code",
   "execution_count": 6,
   "metadata": {},
   "outputs": [
    {
     "name": "stdout",
     "output_type": "stream",
     "text": [
      "k_p=-1.0659362899443976\n"
     ]
    }
   ],
   "source": [
    "print(f'k_p={(198.5-200)/4.45*(10)**0.5}')"
   ]
  },
  {
   "cell_type": "markdown",
   "metadata": {},
   "source": [
    "**<font color='darkblue'>Ответ: утверждение продавца верно.</font>**"
   ]
  }
 ],
 "metadata": {
  "kernelspec": {
   "display_name": "Python 3",
   "language": "python",
   "name": "python3"
  },
  "language_info": {
   "codemirror_mode": {
    "name": "ipython",
    "version": 3
   },
   "file_extension": ".py",
   "mimetype": "text/x-python",
   "name": "python",
   "nbconvert_exporter": "python",
   "pygments_lexer": "ipython3",
   "version": "3.7.3"
  }
 },
 "nbformat": 4,
 "nbformat_minor": 2
}
