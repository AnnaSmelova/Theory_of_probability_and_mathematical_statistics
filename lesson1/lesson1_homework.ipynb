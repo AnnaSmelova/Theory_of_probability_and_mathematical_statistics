{
 "cells": [
  {
   "cell_type": "markdown",
   "metadata": {},
   "source": [
    "**Автор: Анна Смелова**"
   ]
  },
  {
   "cell_type": "markdown",
   "metadata": {},
   "source": [
    "## Решение домашнего задания к уроку 1 “Случайные события. Условная вероятность. Формула Байеса. Независимые испытания”"
   ]
  },
  {
   "cell_type": "code",
   "execution_count": 1,
   "metadata": {},
   "outputs": [],
   "source": [
    "from math import factorial"
   ]
  },
  {
   "cell_type": "code",
   "execution_count": 2,
   "metadata": {},
   "outputs": [],
   "source": [
    "def combinations(n, k):\n",
    "    return int(factorial(n) / (factorial(k) * factorial(n - k)))"
   ]
  },
  {
   "cell_type": "markdown",
   "metadata": {},
   "source": [
    "### 1. Задача\n",
    "#### Из колоды в 52 карты извлекаются случайным образом 4 карты. \n",
    "#### a) Найти вероятность того, что все карты – крести. \n",
    "#### б) Найти вероятность, что среди 4-х карт окажется ХОТЯ БЫ один туз."
   ]
  },
  {
   "cell_type": "markdown",
   "metadata": {},
   "source": [
    "**<font color='darkblue'>Решение:</font>**<br>\n",
    "Общее количество способов достать 4 карты из колоды в 52 карты:<br>\n",
    "$C_{52}^4 = \\frac{52!}{4!(52 - 4)!} = \\frac{52!}{4! \\cdot 48!} = \\frac{52 \\cdot 51 \\cdot 50 \\cdot 49}{1 \\cdot 2 \\cdot 3 \\cdot 4} = 270725$"
   ]
  },
  {
   "cell_type": "code",
   "execution_count": 3,
   "metadata": {},
   "outputs": [
    {
     "data": {
      "text/plain": [
       "270725"
      ]
     },
     "execution_count": 3,
     "metadata": {},
     "output_type": "execute_result"
    }
   ],
   "source": [
    "combinations(52, 4)"
   ]
  },
  {
   "cell_type": "markdown",
   "metadata": {},
   "source": [
    "**a)** 13 крестей в колоде. Вычислим количество способов извлечь 4 крести:<br>\n",
    "$C_{13}^4 = \\frac{13!}{4!(13 - 4)!} = \\frac{52!}{4! \\cdot 9!} = \\frac{13 \\cdot 12 \\cdot 11 \\cdot 10}{1 \\cdot 2 \\cdot 3 \\cdot 4} = 715$"
   ]
  },
  {
   "cell_type": "code",
   "execution_count": 4,
   "metadata": {},
   "outputs": [
    {
     "data": {
      "text/plain": [
       "715"
      ]
     },
     "execution_count": 4,
     "metadata": {},
     "output_type": "execute_result"
    }
   ],
   "source": [
    "combinations(13, 4)"
   ]
  },
  {
   "cell_type": "markdown",
   "metadata": {},
   "source": [
    "Вероятность достать 4 крести из колоды в 52 карты:<br>\n",
    "$P(4clubs) = \\frac{C_{13}^4}{C_{52}^4} = \\frac{715}{270725} = 0.0026410564225690276$"
   ]
  },
  {
   "cell_type": "code",
   "execution_count": 5,
   "metadata": {},
   "outputs": [
    {
     "data": {
      "text/plain": [
       "0.0026410564225690276"
      ]
     },
     "execution_count": 5,
     "metadata": {},
     "output_type": "execute_result"
    }
   ],
   "source": [
    "715 / 270725"
   ]
  },
  {
   "cell_type": "markdown",
   "metadata": {},
   "source": [
    "**б)** Вычислим вероятность извлечь 4 карты без тузов:<br>\n",
    "$C_{52-4}^4 = c_{48}^4 = \\frac{481}{4! \\cdot 44!} = 194580$."
   ]
  },
  {
   "cell_type": "code",
   "execution_count": 6,
   "metadata": {},
   "outputs": [
    {
     "data": {
      "text/plain": [
       "194580"
      ]
     },
     "execution_count": 6,
     "metadata": {},
     "output_type": "execute_result"
    }
   ],
   "source": [
    "combinations(48, 4)"
   ]
  },
  {
   "cell_type": "markdown",
   "metadata": {},
   "source": [
    "Вероятность: $P(withoutace) = \\frac{C_{48}^4}{C_{52}^4} = \\frac{194580}{270725}$<br>\n",
    "<br>\n",
    "Вероятность извлечь 4 карты, среди которых есть хотя бы один туз: $P(\\geq 1ace) = 1 - P(withoutace) = 1 - \\frac{194580}{270725} = 0.2812632745405854$."
   ]
  },
  {
   "cell_type": "code",
   "execution_count": 7,
   "metadata": {},
   "outputs": [
    {
     "data": {
      "text/plain": [
       "0.2812632745405854"
      ]
     },
     "execution_count": 7,
     "metadata": {},
     "output_type": "execute_result"
    }
   ],
   "source": [
    "1 - 194580 / 270725"
   ]
  },
  {
   "cell_type": "markdown",
   "metadata": {},
   "source": [
    "**<font color='darkblue'>Ответ: a) вероятность того, что все карты – крести $0.0026410564225690276$;<br>б) вероятность, что среди 4-х карт окажется хотя бы один туз $0.2812632745405854$.</font>**"
   ]
  },
  {
   "cell_type": "markdown",
   "metadata": {},
   "source": [
    "### 2. Задача\n",
    "#### На входной двери подъезда установлен кодовый замок, содержащий десять кнопок с цифрами от 0 до 9. Код содержит три цифры, которые нужно нажать одновременно. Какова вероятность того, что человек, не знающий код, откроет дверь с первой попытки? "
   ]
  },
  {
   "cell_type": "markdown",
   "metadata": {},
   "source": [
    "**<font color='darkblue'>Решение:</font>**<br>\n",
    "Всего возможных комбинаций по 3 кнопки: $C_{10}^3 = \\frac{10!}{3! \\cdot 7!} = \\frac{10 \\cdot 9 \\cdot 8}{2 \\cdot 3} = 120$"
   ]
  },
  {
   "cell_type": "code",
   "execution_count": 8,
   "metadata": {},
   "outputs": [
    {
     "data": {
      "text/plain": [
       "120"
      ]
     },
     "execution_count": 8,
     "metadata": {},
     "output_type": "execute_result"
    }
   ],
   "source": [
    "combinations(10, 3)"
   ]
  },
  {
   "cell_type": "markdown",
   "metadata": {},
   "source": [
    "Вероятность угадать с первой попытки: $P(1try) = \\frac{1}{C_{10}^3} = \\frac{1}{120} = 0.008333333333333333$."
   ]
  },
  {
   "cell_type": "code",
   "execution_count": 9,
   "metadata": {},
   "outputs": [
    {
     "data": {
      "text/plain": [
       "0.008333333333333333"
      ]
     },
     "execution_count": 9,
     "metadata": {},
     "output_type": "execute_result"
    }
   ],
   "source": [
    "1 / 120"
   ]
  },
  {
   "cell_type": "markdown",
   "metadata": {},
   "source": [
    "**<font color='darkblue'>Ответ: вероятность того, что человек, не знающий код, откроет дверь с первой попытки $0.008333333333333333$.</font>**"
   ]
  },
  {
   "cell_type": "markdown",
   "metadata": {},
   "source": [
    "### 3. Задача\n",
    "#### В ящике имеется 15 деталей, из которых 9 окрашены. Рабочий случайным образом извлекает 3 детали. Какова вероятность того, что все извлеченные детали окрашены?"
   ]
  },
  {
   "cell_type": "markdown",
   "metadata": {},
   "source": [
    "**<font color='darkblue'>Решение:</font>**<br>\n",
    "Вероятность того, что первый шар окрашен: $P(first) = \\frac{9}{15} = \\frac{3}{5}$.<br>\n",
    "Вероятность того, что второй шар окрашен: $P(second) = \\frac{8}{14} = \\frac{4}{7}$.<br>\n",
    "Вероятность того, что третий шар окрашен: $P(third) = \\frac{7}{13}$.<br>\n",
    "Вероятность того, что все три окрашены: $P(all) = P(first) \\cdot P(second) \\cdot P(third) = \\frac{3 \\cdot 4 \\cdot 7}{5 \\cdot 7 \\cdot 13} = \\frac{12}{65} = 0.18461538461538463$."
   ]
  },
  {
   "cell_type": "code",
   "execution_count": 10,
   "metadata": {},
   "outputs": [
    {
     "data": {
      "text/plain": [
       "0.18461538461538463"
      ]
     },
     "execution_count": 10,
     "metadata": {},
     "output_type": "execute_result"
    }
   ],
   "source": [
    "12 / 65"
   ]
  },
  {
   "cell_type": "markdown",
   "metadata": {},
   "source": [
    "**<font color='darkblue'>Ответ: вероятность того, что все извлеченные детали окрашены $0.18461538461538463$.</font>**"
   ]
  },
  {
   "cell_type": "markdown",
   "metadata": {},
   "source": [
    "### 4. Задача\n",
    "#### В лотерее 100 билетов. Из них 2 выигрышных. Какова вероятность того, что 2 приобретенных билета окажутся выигрышными?"
   ]
  },
  {
   "cell_type": "markdown",
   "metadata": {},
   "source": [
    "Вероятность того, что первый выигрышный: $P(1win) = \\frac{2}{100}$.<br>\n",
    "Вероятность того, что второй тоже выигрышный: $P(2win|1win) = \\frac{1}{99}$.<br>\n",
    "Вероятность того, что оба выигрышные: $P(both) = \\frac{2 \\cdot 1}{100 \\cdot 99} = \\frac{1}{99 \\cdot 50} = 0.00020202020202020202$."
   ]
  },
  {
   "cell_type": "code",
   "execution_count": 11,
   "metadata": {},
   "outputs": [
    {
     "data": {
      "text/plain": [
       "0.00020202020202020202"
      ]
     },
     "execution_count": 11,
     "metadata": {},
     "output_type": "execute_result"
    }
   ],
   "source": [
    "1 / (99 * 50)"
   ]
  },
  {
   "cell_type": "markdown",
   "metadata": {},
   "source": [
    "**<font color='darkblue'>Ответ: вероятность того, что 2 приобретенных билета окажутся выигрышными $0.00020202020202020202$.</font>**"
   ]
  }
 ],
 "metadata": {
  "kernelspec": {
   "display_name": "Python 3",
   "language": "python",
   "name": "python3"
  },
  "language_info": {
   "codemirror_mode": {
    "name": "ipython",
    "version": 3
   },
   "file_extension": ".py",
   "mimetype": "text/x-python",
   "name": "python",
   "nbconvert_exporter": "python",
   "pygments_lexer": "ipython3",
   "version": "3.7.3"
  }
 },
 "nbformat": 4,
 "nbformat_minor": 2
}
