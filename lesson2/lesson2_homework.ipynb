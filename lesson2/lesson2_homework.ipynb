{
 "cells": [
  {
   "cell_type": "markdown",
   "metadata": {},
   "source": [
    "**Автор: Анна Смелова**"
   ]
  },
  {
   "cell_type": "markdown",
   "metadata": {},
   "source": [
    "## Решение домашнего задания к уроку 2 “Дискретные случайные величины. Закон распределения вероятностей. Биномиальный закон распределения. Распределение Пуассона”"
   ]
  },
  {
   "cell_type": "code",
   "execution_count": 1,
   "metadata": {},
   "outputs": [],
   "source": [
    "from math import factorial, e"
   ]
  },
  {
   "cell_type": "code",
   "execution_count": 2,
   "metadata": {},
   "outputs": [],
   "source": [
    "def combinations(n, k):\n",
    "    return int(factorial(n) / (factorial(k) * factorial(n - k)))"
   ]
  },
  {
   "cell_type": "markdown",
   "metadata": {},
   "source": [
    "### 1. Задача\n",
    "#### Вероятность того, что стрелок попадет в мишень, выстрелив один раз, равна 0.8. Стрелок выстрелил 100 раз. Найдите вероятность того, что стрелок попадет в цель ровно 85 раз."
   ]
  },
  {
   "cell_type": "markdown",
   "metadata": {},
   "source": [
    "**<font color='darkblue'>Решение:</font>**<br>\n",
    "Случайная величина - попадание в мишень: попал/не попал, испытаний сравнительно мало, вероятность попадания высокая $\\Rightarrow$ формула Бернулли с $p=0.8$, $n=100$ и $k=85$<br>\n",
    "$P(X=k)=C_n^kp^k(1-p)^{n-k}$<br><br>\n",
    "$P(X=85)=C_{100}^{85}\\cdot0.8^{85}\\cdot0.2^{15}=\\frac{100!\\cdot0.8^{85}\\cdot0.2^{15}}{85!\\cdot15!}$"
   ]
  },
  {
   "cell_type": "code",
   "execution_count": 3,
   "metadata": {},
   "outputs": [
    {
     "data": {
      "text/plain": [
       "0.048061793700746556"
      ]
     },
     "execution_count": 3,
     "metadata": {},
     "output_type": "execute_result"
    }
   ],
   "source": [
    "combinations(100, 85) * 0.8**85 * 0.2**15"
   ]
  },
  {
   "cell_type": "markdown",
   "metadata": {},
   "source": [
    "$P(X=85)=0.048061793700746556$"
   ]
  },
  {
   "cell_type": "markdown",
   "metadata": {},
   "source": [
    "**<font color='darkblue'>Ответ: вероятность того, что стрелок попадет в цель ровно 85 раз $0.048061793700746556$.</font>**"
   ]
  },
  {
   "cell_type": "markdown",
   "metadata": {},
   "source": [
    "### 2. Задача\n",
    "#### Вероятность того, что лампочка перегорит в течение первого дня эксплуатации, равна 0.0004. В жилом комплексе после ремонта в один день включили 5000 новых лампочек. Какова вероятность, что ни одна из них не перегорит в первый день? Какова вероятность, что перегорят ровно две?"
   ]
  },
  {
   "cell_type": "markdown",
   "metadata": {},
   "source": [
    "**<font color='darkblue'>Решение:</font>**<br>\n",
    "Случайная величина - перегорание лампочки: горит/не горит, испытаний много, вероятность события низкая $\\Rightarrow$ формула Пуассона с $n=5000$, $p=0.0004$, $m_1=0$ и $m_2=2$ <br>\n",
    "$P_m\\approx\\frac{\\lambda^m}{m!}e^{-\\lambda}$, где $\\lambda=n\\cdot p$<br><br>\n",
    "$\\lambda=0.0004\\cdot 5000=2$<br>\n",
    "$P_{m_1}=P_0=\\frac{2^0}{0!}e^{-2}=e^{-2}=\\frac{1}{e^2}$<br>\n",
    "$P_{m_2}=P_2=\\frac{2^2}{2!}e^{-2}=2e^{-2}=\\frac{2}{e^2}$"
   ]
  },
  {
   "cell_type": "code",
   "execution_count": 4,
   "metadata": {},
   "outputs": [
    {
     "data": {
      "text/plain": [
       "0.1353352832366127"
      ]
     },
     "execution_count": 4,
     "metadata": {},
     "output_type": "execute_result"
    }
   ],
   "source": [
    "1 / e**2"
   ]
  },
  {
   "cell_type": "code",
   "execution_count": 5,
   "metadata": {},
   "outputs": [
    {
     "data": {
      "text/plain": [
       "0.2706705664732254"
      ]
     },
     "execution_count": 5,
     "metadata": {},
     "output_type": "execute_result"
    }
   ],
   "source": [
    "2 / e**2 "
   ]
  },
  {
   "cell_type": "markdown",
   "metadata": {},
   "source": [
    "**<font color='darkblue'>Ответ: вероятность, что ни одна из лампочек не перегорит в первый день $0.1353352832366127$, вероятность, что перегорят ровно две $0.2706705664732254$</font>**"
   ]
  },
  {
   "cell_type": "markdown",
   "metadata": {},
   "source": [
    "### 3. Задача\n",
    "#### Монету подбросили 144 раза. Какова вероятность, что орел выпадет ровно 70 раз?"
   ]
  },
  {
   "cell_type": "markdown",
   "metadata": {},
   "source": [
    "**<font color='darkblue'>Решение:</font>**<br>\n",
    "Формула Бернулли с $n=144$, $k=70$ и $p=0.5$:<br>\n",
    "$P(X=k)=C_n^kp^k(1-p)^{n-k}$<br><br>\n",
    "$P(X=70)=C_{144}^{70}\\cdot0.5^{70}\\cdot0.5^{74}=\\frac{144!\\cdot0.5^{144}}{70!\\cdot74!}$"
   ]
  },
  {
   "cell_type": "code",
   "execution_count": 6,
   "metadata": {},
   "outputs": [
    {
     "data": {
      "text/plain": [
       "0.06281178035144776"
      ]
     },
     "execution_count": 6,
     "metadata": {},
     "output_type": "execute_result"
    }
   ],
   "source": [
    "combinations(144, 70) * 0.5**144"
   ]
  },
  {
   "cell_type": "markdown",
   "metadata": {},
   "source": [
    "$P(X=70)=0.06281178035144776$"
   ]
  },
  {
   "cell_type": "markdown",
   "metadata": {},
   "source": [
    "**<font color='darkblue'>Ответ: вероятность того, что орел выпадет ровно 70 раз $0.06281178035144776$.</font>**"
   ]
  },
  {
   "cell_type": "markdown",
   "metadata": {},
   "source": [
    "### 4. Задача\n",
    "#### В первом ящике находится 10 мячей, из которых 7 - белые. Во втором ящике - 11 мячей, из которых 9 белых. Из каждого ящика вытаскивают случайным образом по два мяча. Какова вероятность того, что все мячи белые? Какова вероятность того, что ровно два мяча белые? Какова вероятность того, что хотя бы один мяч белый?"
   ]
  },
  {
   "cell_type": "markdown",
   "metadata": {},
   "source": [
    "**<font color='darkblue'>Решение:</font>**<br>\n",
    "1. Какова вероятность того, что все мячи белые?<br>\n",
    "Вероятность вытащить 2 белых мяча из первого ящика: $P(2whitefrom1)=\\frac{7}{10}\\cdot\\frac{6}{9}=\\frac{42}{90}=\\frac{14}{30}=\\frac{7}{15}$<br>\n",
    "Вероятность вытащить 2 белых мяча из второго ящика: $P(2whitefrom2)=\\frac{9}{11}\\cdot\\frac{8}{10}=\\frac{72}{110}=\\frac{36}{55}$<br>\n",
    "Вероятность вытащить все белые мячи: $P(allwhite)=P(2whitefrom1)\\cdot P(2whitefrom2)=\\frac{7\\cdot36}{15\\cdot55}$"
   ]
  },
  {
   "cell_type": "code",
   "execution_count": 7,
   "metadata": {},
   "outputs": [
    {
     "data": {
      "text/plain": [
       "0.3054545454545455"
      ]
     },
     "execution_count": 7,
     "metadata": {},
     "output_type": "execute_result"
    }
   ],
   "source": [
    "(7 * 36) / (15 * 55)"
   ]
  },
  {
   "cell_type": "markdown",
   "metadata": {},
   "source": [
    "$P(allwhite)=0.3054545454545455$<br><br>\n",
    "2. Какова вероятность того, что ровно два мяча белые?<br>\n",
    "Ситуация 1: два белых из 1 ящика и два черных из 2 ящика: $P(2-0)=\\frac{7}{10}\\cdot\\frac{6}{9}\\cdot\\frac{2}{11}\\cdot\\frac{1}{10}$<br>\n",
    "Ситуация 2: два черных из 1 ящика и два белых из 2 ящика: $P(0-2)=\\frac{3}{10}\\cdot\\frac{2}{9}\\cdot\\frac{9}{11}\\cdot\\frac{8}{10}$<br>\n",
    "Ситуация 3: один белый из 1 ящика и один белый из 2 ящика: $P(1-1)=\\frac{7}{10}\\cdot\\frac{3}{9}\\cdot\\frac{9}{11}\\cdot\\frac{2}{10}$<br>\n",
    "Вероятность вытащить ровно два белых мяча: $P(=2white)=P(2-0)+P(0-2)+P(1-1)$"
   ]
  },
  {
   "cell_type": "code",
   "execution_count": 8,
   "metadata": {},
   "outputs": [
    {
     "data": {
      "text/plain": [
       "0.0903030303030303"
      ]
     },
     "execution_count": 8,
     "metadata": {},
     "output_type": "execute_result"
    }
   ],
   "source": [
    "(7 * 6 * 2) / (10 * 9 * 11 * 10) + (3 * 2 * 9 * 8) / (10 * 9 * 11 * 10) + (7 * 3 * 9 * 2) / (10 * 9 * 11 * 10)"
   ]
  },
  {
   "cell_type": "markdown",
   "metadata": {},
   "source": [
    "$P(=2white)=0.0903030303030303$<br><br>\n",
    "3. Какова вероятность того, что хотя бы один мяч белый?<br>\n",
    "Рассмотрим обратный случай - все мячи черные:<br>\n",
    "Вероятность вытащить 2 черных мяча из первого ящика: $P(2blackfrom1)=\\frac{3}{10}\\cdot\\frac{2}{9}=\\frac{6}{90}=\\frac{1}{15}$<br>\n",
    "Вероятность вытащить 2 черных мяча из второго ящика: $P(2blackfrom2)=\\frac{2}{11}\\cdot\\frac{1}{10}=\\frac{2}{110}=\\frac{1}{55}$<br>\n",
    "Вероятность вытащить все черные мячи: $P(allblack)=P(2blackfrom1)\\cdot P(2blackfrom2)=\\frac{1\\cdot1}{15\\cdot55}$<br>\n",
    "Вероятность того, что хотя бы один мяч белый: $P(\\geq1white)=1-P(allblack)=1-\\frac{1}{15\\cdot55}$"
   ]
  },
  {
   "cell_type": "code",
   "execution_count": 9,
   "metadata": {},
   "outputs": [
    {
     "data": {
      "text/plain": [
       "0.9987878787878788"
      ]
     },
     "execution_count": 9,
     "metadata": {},
     "output_type": "execute_result"
    }
   ],
   "source": [
    "1 - 1 / (15 * 55)"
   ]
  },
  {
   "cell_type": "markdown",
   "metadata": {},
   "source": [
    "$P(\\geq1white)=0.9987878787878788$"
   ]
  },
  {
   "cell_type": "markdown",
   "metadata": {},
   "source": [
    "**<font color='darkblue'>Ответ: вероятность того, что все мячи белые $0.3054545454545455$, вероятность того, что ровно два мяча белые $0.0903030303030303$, вероятность того, что хотя бы один мяч белый $0.9987878787878788$.</font>**"
   ]
  }
 ],
 "metadata": {
  "kernelspec": {
   "display_name": "Python 3",
   "language": "python",
   "name": "python3"
  },
  "language_info": {
   "codemirror_mode": {
    "name": "ipython",
    "version": 3
   },
   "file_extension": ".py",
   "mimetype": "text/x-python",
   "name": "python",
   "nbconvert_exporter": "python",
   "pygments_lexer": "ipython3",
   "version": "3.7.3"
  }
 },
 "nbformat": 4,
 "nbformat_minor": 2
}
