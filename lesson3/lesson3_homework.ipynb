{
 "cells": [
  {
   "cell_type": "markdown",
   "metadata": {},
   "source": [
    "**Автор: Анна Смелова**"
   ]
  },
  {
   "cell_type": "markdown",
   "metadata": {},
   "source": [
    "## Решение домашнего задания к уроку 3 “Описательная статистика. Качественные и количественные характеристики популяции. Графическое представление данных”"
   ]
  },
  {
   "cell_type": "code",
   "execution_count": 1,
   "metadata": {},
   "outputs": [],
   "source": [
    "import numpy as np\n",
    "from math import factorial"
   ]
  },
  {
   "cell_type": "code",
   "execution_count": 2,
   "metadata": {},
   "outputs": [],
   "source": [
    "def combinations(n, k):\n",
    "    return int(factorial(n) / (factorial(k) * factorial(n - k)))"
   ]
  },
  {
   "cell_type": "markdown",
   "metadata": {},
   "source": [
    "### 1. Задача\n",
    "#### Даны значения зарплат из выборки выпускников: 100, 80, 75, 77, 89, 33, 45, 25, 65, 17, 30, 24, 57, 55, 70, 75, 65, 84, 90, 150. Посчитать (желательно без использования статистических методов наподобие std, var, mean) среднее арифметическое, среднее квадратичное отклонение, смещенную и несмещенную оценки дисперсий для данной выборки."
   ]
  },
  {
   "cell_type": "markdown",
   "metadata": {},
   "source": [
    "**<font color='darkblue'>Решение:</font>**<br>"
   ]
  },
  {
   "cell_type": "code",
   "execution_count": 3,
   "metadata": {},
   "outputs": [
    {
     "name": "stdout",
     "output_type": "stream",
     "text": [
      "n=20\n"
     ]
    }
   ],
   "source": [
    "x = np.array([100, 80, 75, 77, 89, 33, 45, 25, 65, 17, 30, 24, 57, 55, 70, 75, 65, 84, 90, 150])\n",
    "n = len(x)\n",
    "print(f'n={n}')"
   ]
  },
  {
   "cell_type": "code",
   "execution_count": 4,
   "metadata": {},
   "outputs": [
    {
     "name": "stdout",
     "output_type": "stream",
     "text": [
      "Среднее арифметическое:65.3\n"
     ]
    }
   ],
   "source": [
    "m = 0\n",
    "for i in x:\n",
    "    m += i\n",
    "m = m / n\n",
    "print(f'Среднее арифметическое:{m}')"
   ]
  },
  {
   "cell_type": "code",
   "execution_count": 5,
   "metadata": {},
   "outputs": [
    {
     "name": "stdout",
     "output_type": "stream",
     "text": [
      "Среднее квадратичное отклонение:30.823854398825596\n"
     ]
    }
   ],
   "source": [
    "s = 0\n",
    "for i in x:\n",
    "    s += (i - m)**2\n",
    "s = (s / n)**(1 / 2)\n",
    "print(f'Среднее квадратичное отклонение:{s}')"
   ]
  },
  {
   "cell_type": "code",
   "execution_count": 6,
   "metadata": {},
   "outputs": [
    {
     "name": "stdout",
     "output_type": "stream",
     "text": [
      "Смещенная оценка дисперсии: 950.11\n",
      "Несмещенная оценка дисперсии: 1000.1157894736842\n"
     ]
    }
   ],
   "source": [
    "d = 0\n",
    "for i in x:\n",
    "    d += (i - m)**2\n",
    "d1 = d / n\n",
    "d2 = d / (n - 1)\n",
    "print(f'Смещенная оценка дисперсии: {d1}')\n",
    "print(f'Несмещенная оценка дисперсии: {d2}')"
   ]
  },
  {
   "cell_type": "markdown",
   "metadata": {},
   "source": [
    "### 2. Задача\n",
    "#### В первом ящике находится 8 мячей, из которых 5 - белые. Во втором ящике - 12 мячей, из которых 5 белых. Из первого ящика вытаскивают случайным образом два мяча, из второго - 4. Какова вероятность того, что 3 мяча белые?"
   ]
  },
  {
   "cell_type": "markdown",
   "metadata": {},
   "source": [
    "**<font color='darkblue'>Решение:</font>**<br>\n",
    "Ситуация 1: 2 белых из 1 ящика и 1 белый из 2 ящика: $P(2-1)=\\frac{C_5^2}{C_8^2}\\cdot\\frac{C_5^1\\cdot C_7^3}{C_{12}^4}$<br>\n",
    "Ситуация 2: 1 белый из 1 ящика и 2 белых из 2 ящика: $P(1-2)=\\frac{C_5^1\\cdot C_3^1}{C_8^2}\\cdot\\frac{C_5^2\\cdot C_7^2}{C_{12}^4}$<br>\n",
    "Ситуация 3: 0 белых из 1 ящика и 3 белых из 2 ящика: $P(0-3)=\\frac{C_3^2}{C_8^2}\\cdot\\frac{C_5^3\\cdot C_7^1}{C_{12}^4}$<br>"
   ]
  },
  {
   "cell_type": "code",
   "execution_count": 7,
   "metadata": {},
   "outputs": [
    {
     "name": "stdout",
     "output_type": "stream",
     "text": [
      "p21=0.12626262626262627\n",
      "p12=0.22727272727272727\n",
      "p03=0.015151515151515152\n"
     ]
    }
   ],
   "source": [
    "p21 = (combinations(5, 2) * combinations(5, 1) * combinations(7, 3)) / (combinations(8, 2) * combinations(12, 4))\n",
    "p12 = (combinations(5, 1) * combinations(3, 1) * combinations(5, 2) * combinations(7, 2)) / (combinations(8, 2) * combinations(12, 4))\n",
    "p03 = (combinations(3, 2) * combinations(5, 3) * combinations(7, 1)) / (combinations(8, 2) * combinations(12, 4))\n",
    "print(f'p21={p21}')\n",
    "print(f'p12={p12}')\n",
    "print(f'p03={p03}')"
   ]
  },
  {
   "cell_type": "markdown",
   "metadata": {},
   "source": [
    "$P(3white)=P(2-1)+P(1-2)+P(0-3)$"
   ]
  },
  {
   "cell_type": "code",
   "execution_count": 8,
   "metadata": {},
   "outputs": [
    {
     "name": "stdout",
     "output_type": "stream",
     "text": [
      "P=0.3686868686868687\n"
     ]
    }
   ],
   "source": [
    "p = p21 + p12 + p03\n",
    "print(f'P={p}')"
   ]
  },
  {
   "cell_type": "markdown",
   "metadata": {},
   "source": [
    "**<font color='darkblue'>Ответ: вероятность того, что 3 мяча белые $0.3686868686868687$.</font>**"
   ]
  },
  {
   "cell_type": "markdown",
   "metadata": {},
   "source": [
    "### 3. Задача\n",
    "#### На соревновании по биатлону один из трех спортсменов стреляет и попадает в мишень. Вероятность попадания для первого спортсмена равна 0.9, для второго — 0.8, для третьего — 0.6. Найти вероятность того, что выстрел произведен: a). первым спортсменом б). вторым спортсменом в). третьим спортсменом."
   ]
  },
  {
   "cell_type": "markdown",
   "metadata": {},
   "source": [
    "**<font color='darkblue'>Решение:</font>**<br>\n",
    "Событие $A$-попали в мишень, событие $B_1$-попал первый спортсмен, $B_2$-попал второй спортсмен, $B_3$-попал третий спортсмен.<br>\n",
    "Априорная вероятность: $P(B_1)=P(B_2)=P(B_3)=\\frac{1}{3}$<br>\n",
    "$P(A|B_1)=0.9$<br>\n",
    "$P(A|B_2)=0.8$<br>\n",
    "$P(A|B_3)=0.6$<br>\n",
    "Формула полной вероятности: $P(A)=P(B_1)\\cdot P(A|B_1)+P(B_2)\\cdot P(A|B_2)+P(B_3)\\cdot P(A|B_3)=\\frac{1}{3}\\cdot0.9+\\frac{1}{3}\\cdot0.8+\\frac{1}{3}\\cdot0.6=\\frac{23}{30}$<br><br>\n",
    "Апостериорные вероятности:<br>\n",
    "выстрел произведен первым спортсменом: $P(B_1|A)=\\frac{P(B_1)\\cdot P(A|B_1)}{P(A)}=\\frac{\\frac{1}{3}\\cdot0.9}{\\frac{23}{30}}=\\frac{30\\cdot9}{3\\cdot10\\cdot23}=\\frac{9}{23}=0.391304347826087$<br>\n",
    "выстрел произведен вторым спортсменом: $P(B_2|A)=\\frac{P(B_2)\\cdot P(A|B_2)}{P(A)}=\\frac{\\frac{1}{3}\\cdot0.8}{\\frac{23}{30}}=\\frac{30\\cdot8}{3\\cdot10\\cdot23}=\\frac{8}{23}=0.34782608695652173$<br>\n",
    "выстрел произведен третьим спортсменом: $P(B_3|A)=\\frac{P(B_3)\\cdot P(A|B_3)}{P(A)}=\\frac{\\frac{1}{3}\\cdot0.6}{\\frac{23}{30}}=\\frac{30\\cdot6}{3\\cdot10\\cdot23}=\\frac{6}{23}=0.2608695652173913$"
   ]
  },
  {
   "cell_type": "code",
   "execution_count": 9,
   "metadata": {},
   "outputs": [
    {
     "name": "stdout",
     "output_type": "stream",
     "text": [
      "P(B_1|A)=0.391304347826087\n",
      "P(B_2|A)=0.34782608695652173\n",
      "P(B_3|A)=0.2608695652173913\n"
     ]
    }
   ],
   "source": [
    "print(f'P(B_1|A)={9 / 23}')\n",
    "print(f'P(B_2|A)={8 / 23}')\n",
    "print(f'P(B_3|A)={6 / 23}')"
   ]
  },
  {
   "cell_type": "markdown",
   "metadata": {},
   "source": [
    "**<font color='darkblue'>Ответ: вероятность того, что выстрел произведен первым спортсменом $0.391304347826087$,<br>\n",
    "выстрел произведен вторым спортсменом $0.34782608695652173$,<br>\n",
    "выстрел произведен третьим спортсменом $0.2608695652173913$.</font>**"
   ]
  },
  {
   "cell_type": "markdown",
   "metadata": {},
   "source": [
    "### 4. Задача\n",
    "#### В университет на факультеты A и B поступило равное количество студентов, а на факультет C студентов поступило столько же, сколько на A и B вместе. Вероятность того, что студент факультета A сдаст первую сессию, равна 0.8. Для студента факультета B эта вероятность равна 0.7, а для студента факультета C - 0.9. Студент сдал первую сессию. Какова вероятность, что он учится: a). на факультете A б). на факультете B в). на факультете C?"
   ]
  },
  {
   "cell_type": "markdown",
   "metadata": {},
   "source": [
    "**<font color='darkblue'>Решение:</font>**<br>\n",
    "Количество студентов $n_A=n_B=n$, $n_C=2n$<br>\n",
    "Событие $S$-сдал сессию, событие $A$-студент факультета A, $B$-студент факультета B, $C$-студент факультета C.<br>\n",
    "Априорная вероятность: $P(A)=P(B)=\\frac{n}{n+n+2n}=\\frac{1}{4}$, $P(C)=\\frac{2n}{n+n+2n}=\\frac{1}{2}$<br>\n",
    "$P(S|A)=0.8$<br>\n",
    "$P(S|B)=0.7$<br>\n",
    "$P(S|C)=0.9$<br>\n",
    "Формула полной вероятности: $P(S)=P(A)\\cdot P(S|A)+P(B)\\cdot P(S|B)+P(C)\\cdot P(S|C)=\\frac{1}{4}\\cdot0.8+\\frac{1}{4}\\cdot0.7+\\frac{1}{2}\\cdot0.9=\\frac{8+7+18}{4\\cdot10}=\\frac{33}{40}$<br><br>\n",
    "Апостериорные вероятности:<br>\n",
    "сдал студент с факультета A: $P(A|S)=\\frac{P(A)\\cdot P(S|A)}{P(S)}=\\frac{\\frac{1}{4}\\cdot0.8}{\\frac{33}{40}}=\\frac{40\\cdot8}{4\\cdot10\\cdot33}=\\frac{8}{33}=0.24242424242424243$<br>\n",
    "сдал студент с факультета B: $P(B|S)=\\frac{P(B)\\cdot P(S|B)}{P(S)}=\\frac{\\frac{1}{4}\\cdot0.7}{\\frac{33}{40}}=\\frac{40\\cdot7}{4\\cdot10\\cdot33}=\\frac{7}{33}=0.21212121212121213$<br>\n",
    "сдал студент с факультета C: $P(C|S)=\\frac{P(C)\\cdot P(S|C)}{P(S)}=\\frac{\\frac{1}{2}\\cdot0.9}{\\frac{33}{40}}=\\frac{40\\cdot9}{2\\cdot10\\cdot33}=\\frac{18}{33}=0.5454545454545454$"
   ]
  },
  {
   "cell_type": "code",
   "execution_count": 10,
   "metadata": {},
   "outputs": [
    {
     "name": "stdout",
     "output_type": "stream",
     "text": [
      "P(A|S)=0.24242424242424243\n",
      "P(B|S)=0.21212121212121213\n",
      "P(C|S)=0.5454545454545454\n"
     ]
    }
   ],
   "source": [
    "print(f'P(A|S)={8 / 33}')\n",
    "print(f'P(B|S)={7 / 33}')\n",
    "print(f'P(C|S)={18 / 33}')"
   ]
  },
  {
   "cell_type": "markdown",
   "metadata": {},
   "source": [
    "**<font color='darkblue'>Ответ: вероятность того, что сдал студент с факультета A $0.(24)$,<br>\n",
    "вероятность того, что сдал студент с факультета B $0.(21)$,<br>\n",
    "вероятность того, что сдал студент с факультета C $0.(54)$.</font>**"
   ]
  },
  {
   "cell_type": "markdown",
   "metadata": {},
   "source": [
    "### 5. Задача\n",
    "#### Устройство состоит из трех деталей. Для первой детали вероятность выйти из строя в первый месяц равна 0.1, для второй - 0.2, для третьей - 0.25. Какова вероятность того, что в первый месяц выйдут из строя: а). все детали б). только две детали в). хотя бы одна деталь г). от одной до двух деталей?"
   ]
  },
  {
   "cell_type": "markdown",
   "metadata": {},
   "source": [
    "**<font color='darkblue'>Решение:</font>**<br>\n",
    "Событие $B_1$-вышла из строя первая деталь, $P(B_1)=0.1$<br>\n",
    "Событие $B_2$-вышла из строя вторая деталь, $P(B_2)=0.2$<br>\n",
    "Событие $B_3$-вышла из строя третья деталь, $P(B_3)=0.25$<br><br>\n",
    "а) Вышли из строя все детали: $P(B_1B_2B_3)=P(B_1)\\cdot P(B_2)\\cdot P(B_3)=0.1\\cdot0.2\\cdot0.25=0.005$.<br><br>\n",
    "б) Вышли из строя только две детали: $P(=2)=P(B_1B_2\\overline{B_3})+P(B_1\\overline{B_2}B_3)+P(\\overline{B_1}B_2B_3)=P(B_1)\\cdot P(B_2)\\cdot (1-P(B_3))+P(B_1)\\cdot (1-P(B_2))\\cdot P(B_3)+(1-P(B_1))\\cdot P(B_2)\\cdot P(B_3)=0.1\\cdot0.2\\cdot0.75+0.1\\cdot0.8\\cdot0.25+0.9\\cdot0.2\\cdot0.25=0.015+0.02+0.045=0.08$.<br><br>\n",
    "в) Вышла из строя хотя бы одна деталь: $P(\\geq1)=1-P(\\overline{B_1B_2B_3})=(1-P(B_1))\\cdot(1-P(B_2))\\cdot(1-P(B_3))=0.9\\cdot0.8\\cdot0.75=0.46$<br><br>\n",
    "г) Вышли из строя от одной до двух деталей: $P(1\\geq\\leq2)=P(B_1\\overline{B_2B_3})+P(\\overline{B_1}B_2\\overline{B_3})+P(\\overline{B_1B_2}B_3)+P(=2)=P(B_1)\\cdot(1-P(B_2))\\cdot(1-P(B_3))+(1-P(B_1))\\cdot P(B_2)\\cdot(1-P(B_3))+(1-P(B_1))\\cdot(1-P(B_2))\\cdot P(B_3)+P(=2)=0.1\\cdot0.8\\cdot0.75+0.9\\cdot0.2\\cdot0.75+0.9\\cdot0.8\\cdot0.25+0.08=0.06+0.135+0.18+0.08=0.455.$"
   ]
  },
  {
   "cell_type": "code",
   "execution_count": 11,
   "metadata": {},
   "outputs": [
    {
     "name": "stdout",
     "output_type": "stream",
     "text": [
      "P(B1B2B3)=0.005000000000000001\n",
      "P(=2)=0.08000000000000002\n",
      "P(>=1)=0.45999999999999996\n",
      "P(1>==<2)=0.455\n"
     ]
    }
   ],
   "source": [
    "print(f'P(B1B2B3)={0.1*0.2*0.25}')\n",
    "print(f'P(=2)={0.1*0.2*0.75+0.1*0.8*0.25+0.9*0.2*0.25}')\n",
    "print(f'P(>=1)={1-0.9*0.8*0.75}')\n",
    "print(f'P(1>==<2)={0.1*0.8*0.75+0.9*0.2*0.75+0.9*0.8*0.25+0.08}')"
   ]
  },
  {
   "cell_type": "markdown",
   "metadata": {},
   "source": [
    "**<font color='darkblue'>Ответ: a) $0.005$,<br> б) $0.08$,<br> в) $0.46$,<br> г) $0.455$.</font>**"
   ]
  }
 ],
 "metadata": {
  "kernelspec": {
   "display_name": "Python 3",
   "language": "python",
   "name": "python3"
  },
  "language_info": {
   "codemirror_mode": {
    "name": "ipython",
    "version": 3
   },
   "file_extension": ".py",
   "mimetype": "text/x-python",
   "name": "python",
   "nbconvert_exporter": "python",
   "pygments_lexer": "ipython3",
   "version": "3.7.3"
  }
 },
 "nbformat": 4,
 "nbformat_minor": 2
}
