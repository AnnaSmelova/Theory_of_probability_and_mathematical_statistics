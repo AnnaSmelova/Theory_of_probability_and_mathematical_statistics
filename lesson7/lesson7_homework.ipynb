{
 "cells": [
  {
   "cell_type": "markdown",
   "metadata": {},
   "source": [
    "**Автор: Анна Смелова**"
   ]
  },
  {
   "cell_type": "markdown",
   "metadata": {},
   "source": [
    "## Решение домашнего задания к уроку 7 “Многомерный статистический анализ. Линейная регрессия”"
   ]
  },
  {
   "cell_type": "code",
   "execution_count": 1,
   "metadata": {},
   "outputs": [],
   "source": [
    "import numpy as np\n",
    "import pandas as pd\n",
    "import matplotlib.pyplot as plt"
   ]
  },
  {
   "cell_type": "markdown",
   "metadata": {},
   "source": [
    "### 1. Задача\n",
    "#### Даны значения величины заработной платы заемщиков банка (zp) и значения их поведенческого кредитного скоринга (ks): \n",
    "$$zp = [35, 45, 190, 200, 40, 70, 54, 150, 120, 110]$$\n",
    "$$ks = [401, 574, 874, 919, 459, 739, 653, 902, 746, 832]$$\n",
    "#### Используя математические операции, посчитать коэффициенты линейной регрессии, приняв за X заработную плату (то есть, zp - признак), а за y - значения скорингового балла (то есть, ks - целевая переменная). Произвести расчет как с использованием intercept, так и без."
   ]
  },
  {
   "cell_type": "markdown",
   "metadata": {},
   "source": [
    "**<font color='darkblue'>Решение:</font>**<br>"
   ]
  },
  {
   "cell_type": "code",
   "execution_count": 2,
   "metadata": {},
   "outputs": [],
   "source": [
    "zp = np.array([35,45,190,200,40,70,54,150,120,110], dtype=np.float64)\n",
    "ks = np.array([401,574,874,919,459,739,653,902,746,832], dtype=np.float64)"
   ]
  },
  {
   "cell_type": "code",
   "execution_count": 3,
   "metadata": {},
   "outputs": [],
   "source": [
    "x = zp\n",
    "y = ks"
   ]
  },
  {
   "cell_type": "markdown",
   "metadata": {},
   "source": [
    "1. Без использования intersept (a_1=0):<br>\n",
    "$$y = b_1x$$\n",
    "$\\Rightarrow b_1=\\frac{\\overline{x\\cdot y}}{\\overline{x^2}}$"
   ]
  },
  {
   "cell_type": "code",
   "execution_count": 4,
   "metadata": {},
   "outputs": [
    {
     "name": "stdout",
     "output_type": "stream",
     "text": [
      "Без использования intersept: a=0, b=5.889820420132689\n"
     ]
    }
   ],
   "source": [
    "b_1 = np.sum(x * y) / np.sum(x * x)\n",
    "print(f'Без использования intersept: a=0, b={b_1}')"
   ]
  },
  {
   "cell_type": "markdown",
   "metadata": {},
   "source": [
    "2. С использованием intersept ($a_2\\neq0$):<br>\n",
    "$$y = a_2 + b_2x$$\n",
    "$\\Rightarrow b_2 = \\frac{\\overline{yx} - \\overline{y} \\cdot {\\overline{x}}}{\\overline{x^2} - (\\overline{x})^2}; a_2 = \\overline{y} - b \\cdot {\\overline{x}}.$"
   ]
  },
  {
   "cell_type": "code",
   "execution_count": 5,
   "metadata": {},
   "outputs": [
    {
     "name": "stdout",
     "output_type": "stream",
     "text": [
      "С использованием intersept: a=444.1773573243596, b=2.620538882402765\n"
     ]
    }
   ],
   "source": [
    "b_2 = (np.mean(x * y) - np.mean(x) * np.mean(y)) / (np.mean(x**2) - np.mean(x) ** 2)\n",
    "a_2 = np.mean(y) - b_2 * np.mean(x)\n",
    "print(f'С использованием intersept: a={a_2}, b={b_2}')"
   ]
  },
  {
   "cell_type": "code",
   "execution_count": 6,
   "metadata": {},
   "outputs": [],
   "source": [
    "y_pred_1 = b_1 * x\n",
    "y_pred_2 = a_2 + b_2 * x"
   ]
  },
  {
   "cell_type": "code",
   "execution_count": 7,
   "metadata": {},
   "outputs": [
    {
     "data": {
      "text/html": [
       "<div>\n",
       "<style scoped>\n",
       "    .dataframe tbody tr th:only-of-type {\n",
       "        vertical-align: middle;\n",
       "    }\n",
       "\n",
       "    .dataframe tbody tr th {\n",
       "        vertical-align: top;\n",
       "    }\n",
       "\n",
       "    .dataframe thead th {\n",
       "        text-align: right;\n",
       "    }\n",
       "</style>\n",
       "<table border=\"1\" class=\"dataframe\">\n",
       "  <thead>\n",
       "    <tr style=\"text-align: right;\">\n",
       "      <th></th>\n",
       "      <th>x</th>\n",
       "      <th>y</th>\n",
       "      <th>y_pred_1</th>\n",
       "      <th>y_pred_2</th>\n",
       "    </tr>\n",
       "  </thead>\n",
       "  <tbody>\n",
       "    <tr>\n",
       "      <th>0</th>\n",
       "      <td>35.0</td>\n",
       "      <td>401.0</td>\n",
       "      <td>206.143715</td>\n",
       "      <td>535.896218</td>\n",
       "    </tr>\n",
       "    <tr>\n",
       "      <th>1</th>\n",
       "      <td>45.0</td>\n",
       "      <td>574.0</td>\n",
       "      <td>265.041919</td>\n",
       "      <td>562.101607</td>\n",
       "    </tr>\n",
       "    <tr>\n",
       "      <th>2</th>\n",
       "      <td>190.0</td>\n",
       "      <td>874.0</td>\n",
       "      <td>1119.065880</td>\n",
       "      <td>942.079745</td>\n",
       "    </tr>\n",
       "    <tr>\n",
       "      <th>3</th>\n",
       "      <td>200.0</td>\n",
       "      <td>919.0</td>\n",
       "      <td>1177.964084</td>\n",
       "      <td>968.285134</td>\n",
       "    </tr>\n",
       "    <tr>\n",
       "      <th>4</th>\n",
       "      <td>40.0</td>\n",
       "      <td>459.0</td>\n",
       "      <td>235.592817</td>\n",
       "      <td>548.998913</td>\n",
       "    </tr>\n",
       "    <tr>\n",
       "      <th>5</th>\n",
       "      <td>70.0</td>\n",
       "      <td>739.0</td>\n",
       "      <td>412.287429</td>\n",
       "      <td>627.615079</td>\n",
       "    </tr>\n",
       "    <tr>\n",
       "      <th>6</th>\n",
       "      <td>54.0</td>\n",
       "      <td>653.0</td>\n",
       "      <td>318.050303</td>\n",
       "      <td>585.686457</td>\n",
       "    </tr>\n",
       "    <tr>\n",
       "      <th>7</th>\n",
       "      <td>150.0</td>\n",
       "      <td>902.0</td>\n",
       "      <td>883.473063</td>\n",
       "      <td>837.258190</td>\n",
       "    </tr>\n",
       "    <tr>\n",
       "      <th>8</th>\n",
       "      <td>120.0</td>\n",
       "      <td>746.0</td>\n",
       "      <td>706.778450</td>\n",
       "      <td>758.642023</td>\n",
       "    </tr>\n",
       "    <tr>\n",
       "      <th>9</th>\n",
       "      <td>110.0</td>\n",
       "      <td>832.0</td>\n",
       "      <td>647.880246</td>\n",
       "      <td>732.436634</td>\n",
       "    </tr>\n",
       "  </tbody>\n",
       "</table>\n",
       "</div>"
      ],
      "text/plain": [
       "       x      y     y_pred_1    y_pred_2\n",
       "0   35.0  401.0   206.143715  535.896218\n",
       "1   45.0  574.0   265.041919  562.101607\n",
       "2  190.0  874.0  1119.065880  942.079745\n",
       "3  200.0  919.0  1177.964084  968.285134\n",
       "4   40.0  459.0   235.592817  548.998913\n",
       "5   70.0  739.0   412.287429  627.615079\n",
       "6   54.0  653.0   318.050303  585.686457\n",
       "7  150.0  902.0   883.473063  837.258190\n",
       "8  120.0  746.0   706.778450  758.642023\n",
       "9  110.0  832.0   647.880246  732.436634"
      ]
     },
     "execution_count": 7,
     "metadata": {},
     "output_type": "execute_result"
    }
   ],
   "source": [
    "df = pd.DataFrame({'x': x, 'y': y, 'y_pred_1': y_pred_1, 'y_pred_2': y_pred_2 }, columns=['x', 'y', 'y_pred_1', 'y_pred_2'])\n",
    "df"
   ]
  },
  {
   "cell_type": "code",
   "execution_count": 29,
   "metadata": {},
   "outputs": [
    {
     "data": {
      "image/png": "[encoded data removed]",
      "text/plain": [
       "<Figure size 432x288 with 1 Axes>"
      ]
     },
     "metadata": {
      "needs_background": "light"
     },
     "output_type": "display_data"
    }
   ],
   "source": [
    "plt.scatter(df['x'], df['y'])\n",
    "plt.plot(df['x'], df['y_pred_1'], label='without intersept a=0 b=5.89', color='blue')\n",
    "plt.plot(df['x'], df['y_pred_2'], label='with intersept a=444.18 b=2.62', color='green')\n",
    "plt.xlabel('Заработная плата')\n",
    "plt.ylabel('Кредитный скоринг')\n",
    "plt.legend(loc=\"lower right\")\n",
    "plt.show()"
   ]
  },
  {
   "cell_type": "markdown",
   "metadata": {},
   "source": [
    "Прямая, построенная с intersept более точно приближает исходные данные, чем прямая, построенная без него."
   ]
  },
  {
   "cell_type": "markdown",
   "metadata": {},
   "source": [
    "### 2. Задача\n",
    "#### Посчитать коэффициент линейной регрессии при заработной плате (zp), используя градиентный спуск (без intercept)."
   ]
  },
  {
   "cell_type": "markdown",
   "metadata": {},
   "source": [
    "**<font color='darkblue'>Решение:</font>**<br>"
   ]
  },
  {
   "cell_type": "markdown",
   "metadata": {},
   "source": [
    "$$y=\\beta_1\\cdot x$$\n",
    "$$\\beta_1 \\leftarrow \\beta_1-\\frac{2\\alpha}{n}\\sum_{i=1}^{n}{x_i(\\beta_1x_i-y_i)}$$"
   ]
  },
  {
   "cell_type": "code",
   "execution_count": 9,
   "metadata": {},
   "outputs": [
    {
     "name": "stdout",
     "output_type": "stream",
     "text": [
      "x = [ 35.  45. 190. 200.  40.  70.  54. 150. 120. 110.]\n",
      "y = [401. 574. 874. 919. 459. 739. 653. 902. 746. 832.]\n"
     ]
    }
   ],
   "source": [
    "print(f'x = {x}')\n",
    "print(f'y = {y}')"
   ]
  },
  {
   "cell_type": "code",
   "execution_count": 10,
   "metadata": {},
   "outputs": [
    {
     "name": "stdout",
     "output_type": "stream",
     "text": [
      "n=10\n"
     ]
    }
   ],
   "source": [
    "n = len(x)\n",
    "print(f'n={n}')"
   ]
  },
  {
   "cell_type": "code",
   "execution_count": 11,
   "metadata": {},
   "outputs": [],
   "source": [
    "def mse_(B1,y=y,x=x,n=n):\n",
    "    return np.sum((B1*x-y)**2)/n"
   ]
  },
  {
   "cell_type": "code",
   "execution_count": 12,
   "metadata": {},
   "outputs": [
    {
     "name": "stdout",
     "output_type": "stream",
     "text": [
      "alpha = 1e-06\n"
     ]
    }
   ],
   "source": [
    "alpha = 1e-6\n",
    "print(f'alpha = {alpha}')"
   ]
  },
  {
   "cell_type": "code",
   "execution_count": 13,
   "metadata": {},
   "outputs": [],
   "source": [
    "B1 = 0.1"
   ]
  },
  {
   "cell_type": "code",
   "execution_count": 14,
   "metadata": {},
   "outputs": [
    {
     "name": "stdout",
     "output_type": "stream",
     "text": [
      "0: B1 = 0.25952808, mse = 493237.7212546963\n",
      "1: B1 = 0.414660650906144, mse = 469503.15593253804\n",
      "2: B1 = 0.5655188230595969, mse = 447058.4982813111\n",
      "3: B1 = 0.7122203698240712, mse = 425833.6454035351\n",
      "4: B1 = 0.8548798195302346, mse = 405762.3042994031\n",
      "5: B1 = 0.9936085448867542, mse = 386781.7848094311\n",
      "6: B1 = 1.1285148499277806, mse = 368832.80381009757\n",
      "7: B1 = 1.2597040545647504, mse = 351859.3000509065\n",
      "8: B1 = 1.387278576808517, mse = 335808.2590545421\n",
      "9: B1 = 1.5113380127259965, mse = 320629.547533212\n"
     ]
    }
   ],
   "source": [
    "for i in range(10):\n",
    "    B1 -= alpha * (2 / n) * np.sum((B1 * x - y) * x)\n",
    "    print(f'{i}: B1 = {B1}, mse = {mse_(B1)}')"
   ]
  },
  {
   "cell_type": "code",
   "execution_count": 15,
   "metadata": {},
   "outputs": [
    {
     "name": "stdout",
     "output_type": "stream",
     "text": [
      "0: B1 = 1.6319792141937546, mse = 306275.7568040035\n",
      "10: B1 = 2.6698789606516935, mse = 199352.96411174876\n",
      "20: B1 = 3.4547782236263824, mse = 138204.25062502263\n",
      "30: B1 = 4.04834889855975, mse = 103233.54824312925\n",
      "40: B1 = 4.497229618367758, mse = 83233.94472982832\n",
      "50: B1 = 4.836690291080364, mse = 71796.25222021657\n",
      "60: B1 = 5.093403362579137, mse = 65255.0820486468\n",
      "70: B1 = 5.287539550879594, mse = 61514.21323463749\n",
      "80: B1 = 5.434352720103083, mse = 59374.825462025976\n",
      "90: B1 = 5.54537842245223, mse = 58151.31823171113\n"
     ]
    }
   ],
   "source": [
    "for i in range(100):\n",
    "    B1 -= alpha * (2 / n) * np.sum((B1 * x - y) * x)\n",
    "    if i%10==0:\n",
    "        print(f'{i}: B1 = {B1}, mse = {mse_(B1)}')"
   ]
  },
  {
   "cell_type": "code",
   "execution_count": 16,
   "metadata": {},
   "outputs": [
    {
     "name": "stdout",
     "output_type": "stream",
     "text": [
      "0: B1 = 5.629340281237233, mse = 57451.59938606899\n",
      "500: B1 = 5.889820196929507, mse = 56516.85841572009\n",
      "1000: B1 = 5.889820420132498, mse = 56516.85841571941\n",
      "1500: B1 = 5.889820420132673, mse = 56516.85841571943\n",
      "2000: B1 = 5.889820420132673, mse = 56516.85841571943\n",
      "2500: B1 = 5.889820420132673, mse = 56516.85841571943\n",
      "3000: B1 = 5.889820420132673, mse = 56516.85841571943\n",
      "3500: B1 = 5.889820420132673, mse = 56516.85841571943\n",
      "4000: B1 = 5.889820420132673, mse = 56516.85841571943\n",
      "4500: B1 = 5.889820420132673, mse = 56516.85841571943\n"
     ]
    }
   ],
   "source": [
    "for i in range(5000):\n",
    "    B1 -= alpha * (2 / n) * np.sum((B1 * x - y) * x)\n",
    "    if i%500==0:\n",
    "        print(f'{i}: B1 = {B1}, mse = {mse_(B1)}')"
   ]
  },
  {
   "cell_type": "code",
   "execution_count": 17,
   "metadata": {},
   "outputs": [
    {
     "data": {
      "text/html": [
       "<div>\n",
       "<style scoped>\n",
       "    .dataframe tbody tr th:only-of-type {\n",
       "        vertical-align: middle;\n",
       "    }\n",
       "\n",
       "    .dataframe tbody tr th {\n",
       "        vertical-align: top;\n",
       "    }\n",
       "\n",
       "    .dataframe thead th {\n",
       "        text-align: right;\n",
       "    }\n",
       "</style>\n",
       "<table border=\"1\" class=\"dataframe\">\n",
       "  <thead>\n",
       "    <tr style=\"text-align: right;\">\n",
       "      <th></th>\n",
       "      <th>x</th>\n",
       "      <th>y</th>\n",
       "      <th>y_pred_1</th>\n",
       "      <th>y_pred_2</th>\n",
       "      <th>y_pred_3</th>\n",
       "    </tr>\n",
       "  </thead>\n",
       "  <tbody>\n",
       "    <tr>\n",
       "      <th>0</th>\n",
       "      <td>35.0</td>\n",
       "      <td>401.0</td>\n",
       "      <td>206.143715</td>\n",
       "      <td>535.896218</td>\n",
       "      <td>206.143715</td>\n",
       "    </tr>\n",
       "    <tr>\n",
       "      <th>1</th>\n",
       "      <td>45.0</td>\n",
       "      <td>574.0</td>\n",
       "      <td>265.041919</td>\n",
       "      <td>562.101607</td>\n",
       "      <td>265.041919</td>\n",
       "    </tr>\n",
       "    <tr>\n",
       "      <th>2</th>\n",
       "      <td>190.0</td>\n",
       "      <td>874.0</td>\n",
       "      <td>1119.065880</td>\n",
       "      <td>942.079745</td>\n",
       "      <td>1119.065880</td>\n",
       "    </tr>\n",
       "    <tr>\n",
       "      <th>3</th>\n",
       "      <td>200.0</td>\n",
       "      <td>919.0</td>\n",
       "      <td>1177.964084</td>\n",
       "      <td>968.285134</td>\n",
       "      <td>1177.964084</td>\n",
       "    </tr>\n",
       "    <tr>\n",
       "      <th>4</th>\n",
       "      <td>40.0</td>\n",
       "      <td>459.0</td>\n",
       "      <td>235.592817</td>\n",
       "      <td>548.998913</td>\n",
       "      <td>235.592817</td>\n",
       "    </tr>\n",
       "    <tr>\n",
       "      <th>5</th>\n",
       "      <td>70.0</td>\n",
       "      <td>739.0</td>\n",
       "      <td>412.287429</td>\n",
       "      <td>627.615079</td>\n",
       "      <td>412.287429</td>\n",
       "    </tr>\n",
       "    <tr>\n",
       "      <th>6</th>\n",
       "      <td>54.0</td>\n",
       "      <td>653.0</td>\n",
       "      <td>318.050303</td>\n",
       "      <td>585.686457</td>\n",
       "      <td>318.050303</td>\n",
       "    </tr>\n",
       "    <tr>\n",
       "      <th>7</th>\n",
       "      <td>150.0</td>\n",
       "      <td>902.0</td>\n",
       "      <td>883.473063</td>\n",
       "      <td>837.258190</td>\n",
       "      <td>883.473063</td>\n",
       "    </tr>\n",
       "    <tr>\n",
       "      <th>8</th>\n",
       "      <td>120.0</td>\n",
       "      <td>746.0</td>\n",
       "      <td>706.778450</td>\n",
       "      <td>758.642023</td>\n",
       "      <td>706.778450</td>\n",
       "    </tr>\n",
       "    <tr>\n",
       "      <th>9</th>\n",
       "      <td>110.0</td>\n",
       "      <td>832.0</td>\n",
       "      <td>647.880246</td>\n",
       "      <td>732.436634</td>\n",
       "      <td>647.880246</td>\n",
       "    </tr>\n",
       "  </tbody>\n",
       "</table>\n",
       "</div>"
      ],
      "text/plain": [
       "       x      y     y_pred_1    y_pred_2     y_pred_3\n",
       "0   35.0  401.0   206.143715  535.896218   206.143715\n",
       "1   45.0  574.0   265.041919  562.101607   265.041919\n",
       "2  190.0  874.0  1119.065880  942.079745  1119.065880\n",
       "3  200.0  919.0  1177.964084  968.285134  1177.964084\n",
       "4   40.0  459.0   235.592817  548.998913   235.592817\n",
       "5   70.0  739.0   412.287429  627.615079   412.287429\n",
       "6   54.0  653.0   318.050303  585.686457   318.050303\n",
       "7  150.0  902.0   883.473063  837.258190   883.473063\n",
       "8  120.0  746.0   706.778450  758.642023   706.778450\n",
       "9  110.0  832.0   647.880246  732.436634   647.880246"
      ]
     },
     "execution_count": 17,
     "metadata": {},
     "output_type": "execute_result"
    }
   ],
   "source": [
    "y_pred_3 = B1 * x\n",
    "df['y_pred_3'] = y_pred_3\n",
    "df"
   ]
  },
  {
   "cell_type": "code",
   "execution_count": 18,
   "metadata": {},
   "outputs": [
    {
     "data": {
      "image/png": "[encoded data removed]",
      "text/plain": [
       "<Figure size 432x288 with 1 Axes>"
      ]
     },
     "metadata": {
      "needs_background": "light"
     },
     "output_type": "display_data"
    }
   ],
   "source": [
    "plt.scatter(df['x'], df['y'])\n",
    "plt.plot(df['x'], df['y_pred_3'], label='gradient_descent without intersept b=5.89', color='blue')\n",
    "plt.xlabel('Заработная плата')\n",
    "plt.ylabel('Кредитный скоринг')\n",
    "plt.legend(loc=\"lower right\")\n",
    "plt.show()"
   ]
  },
  {
   "cell_type": "markdown",
   "metadata": {},
   "source": [
    "### 3. Задача\n",
    "#### В каких случаях для вычисления доверительных интервалов и проверки статистических гипотез используется таблица значений функции Лапласа, а в каких - таблица критических точек распределения Стьюдента?"
   ]
  },
  {
   "cell_type": "markdown",
   "metadata": {},
   "source": [
    "**<font color='darkblue'>Решение:</font>**<br><br>\n",
    "В случае, когда известна дисперсия (и, соответственно, среднеквадратическое отклонение) ГЕНЕРАЛЬНОЙ СОВОКУПНОСТИ, используется таблица значений функции Лапласа.<br>\n",
    "В случае, когда дисперсия генеральной совокупности неизвестна, используется таблица критических точек распределения Стьюдента."
   ]
  },
  {
   "cell_type": "markdown",
   "metadata": {},
   "source": [
    "### 4*. Задача\n",
    "#### Произвести вычисления как в пункте 2, но с вычислением intercept. Учесть, что изменение коэффициентов должно производиться на каждом шаге одновременно (то есть изменение одного коэффициента не должно влиять на изменение другого во время одной итерации)."
   ]
  },
  {
   "cell_type": "markdown",
   "metadata": {},
   "source": [
    "**<font color='darkblue'>Решение:</font>**<br>"
   ]
  },
  {
   "cell_type": "markdown",
   "metadata": {},
   "source": [
    "$$y=a_2+\\beta_2\\cdot x$$\n",
    "$$a_2 \\leftarrow a_2-\\frac{2\\alpha}{n}\\sum_{i=1}^{n}{((a_2+\\beta_2x_i)-y_i)}$$\n",
    "$$\\beta_2 \\leftarrow \\beta_2-\\frac{2\\alpha}{n}\\sum_{i=1}^{n}{x_i((a_2+\\beta_2x_i)-y_i)}$$"
   ]
  },
  {
   "cell_type": "code",
   "execution_count": 19,
   "metadata": {},
   "outputs": [],
   "source": [
    "A2 = 100\n",
    "B2 = 0.1\n",
    "alpha = 1e-5"
   ]
  },
  {
   "cell_type": "code",
   "execution_count": 20,
   "metadata": {},
   "outputs": [],
   "source": [
    "def mse2_(A2,B2,y=y,x=x,n=n):\n",
    "    return np.sum(((A2+B2*x)-y)**2)/n"
   ]
  },
  {
   "cell_type": "code",
   "execution_count": 21,
   "metadata": {},
   "outputs": [
    {
     "name": "stdout",
     "output_type": "stream",
     "text": [
      "0: A2 = 100.0119952, B2 = 1.4924564737344004, mse = 221188.36688854443\n",
      "1: A2 = 100.02116625836727, B2 = 2.501228031441445, mse = 133437.2950361376\n",
      "2: A2 = 100.02829134459434, B2 = 3.2320362946354835, mse = 87381.96305969775\n",
      "3: A2 = 100.03393420916193, B2 = 3.761472051725799, mse = 63210.16838716254\n",
      "4: A2 = 100.03850326515685, B2 = 4.145022049747948, mse = 50523.70458799081\n",
      "5: A2 = 100.04229439037465, B2 = 4.422884061313116, mse = 43865.19164655711\n",
      "6: A2 = 100.0455219356105, B2 = 4.6241796516459726, mse = 40370.38514008706\n",
      "7: A2 = 100.04834118883825, B2 = 4.770006147937691, mse = 38536.01808238481\n",
      "8: A2 = 100.05086464954645, B2 = 4.875647660474843, mse = 37573.11702178345\n",
      "9: A2 = 100.05317381879802, B2 = 4.952176872784366, mse = 37067.59746057168\n"
     ]
    }
   ],
   "source": [
    "for i in range(10):\n",
    "    A2 -= alpha * (2 / n) * np.sum((A2 + B2 * x) - y)\n",
    "    B2 -= alpha * (2 / n) * np.sum(((A2 + B2 * x) - y) * x)\n",
    "    print(f'{i}: A2 = {A2}, B2 = {B2}, mse = {mse2_(A2, B2)}')"
   ]
  },
  {
   "cell_type": "code",
   "execution_count": 22,
   "metadata": {},
   "outputs": [
    {
     "name": "stdout",
     "output_type": "stream",
     "text": [
      "0: A2 = 100.05532774062364, B2 = 5.007615470014359, mse = 36802.13124782141\n",
      "10: A2 = 100.07381532172069, B2 = 5.147474103090799, mse = 36506.63705654138\n",
      "20: A2 = 100.09131266699053, B2 = 5.152920238478886, mse = 36503.12405274039\n",
      "30: A2 = 100.10876972842085, B2 = 5.153013754156794, mse = 36500.076207492486\n",
      "40: A2 = 100.12622433540673, B2 = 5.152894122020477, mse = 36497.029481014\n",
      "50: A2 = 100.14367799444794, B2 = 5.1527660080880935, mse = 36493.9830678163\n",
      "60: A2 = 100.16113076558004, B2 = 5.152637562647898, mse = 36490.93696382033\n",
      "70: A2 = 100.1785826512369, B2 = 5.152509110263474, mse = 36487.89116887798\n",
      "80: A2 = 100.19603365155855, B2 = 5.152380663859399, mse = 36484.845682953324\n",
      "90: A2 = 100.21348376659373, B2 = 5.152252223950043, mse = 36481.800506014784\n"
     ]
    }
   ],
   "source": [
    "for i in range(100):\n",
    "    A2 -= alpha * (2 / n) * np.sum((A2 + B2 * x) - y)\n",
    "    B2 -= alpha * (2 / n) * np.sum(((A2 + B2 * x) - y) * x)\n",
    "    if i%10==0:\n",
    "        print(f'{i}: A2 = {A2}, B2 = {B2}, mse = {mse2_(A2, B2)}')"
   ]
  },
  {
   "cell_type": "code",
   "execution_count": 23,
   "metadata": {},
   "outputs": [
    {
     "name": "stdout",
     "output_type": "stream",
     "text": [
      "0: A2 = 100.2309329963875, B2 = 5.152123790555573, mse = 36478.75563803109\n",
      "1000: A2 = 101.97139320765861, B2 = 5.139313298884659, mse = 36175.823692823775\n",
      "2000: A2 = 103.70304622823728, B2 = 5.126567631702278, mse = 35875.949822772694\n",
      "3000: A2 = 105.42593662484643, B2 = 5.1138864609793115, mse = 35579.103156839585\n",
      "4000: A2 = 107.14010873868958, B2 = 5.1012694603465505, mse = 35285.25313562703\n",
      "5000: A2 = 108.84560668659161, B2 = 5.088716305086308, mse = 34994.36950823243\n",
      "6000: A2 = 110.54247436213511, B2 = 5.076226672124047, mse = 34706.42232913375\n",
      "7000: A2 = 112.23075543678905, B2 = 5.06380024002008, mse = 34421.38195510674\n",
      "8000: A2 = 113.91049336103345, B2 = 5.051436688961284, mse = 34139.2190421733\n",
      "9000: A2 = 115.58173136547701, B2 = 5.039135700752881, mse = 33859.90454258055\n"
     ]
    }
   ],
   "source": [
    "for i in range(10000):\n",
    "    A2 -= alpha * (2 / n) * np.sum((A2 + B2 * x) - y)\n",
    "    B2 -= alpha * (2 / n) * np.sum(((A2 + B2 * x) - y) * x)\n",
    "    if i%1000==0:\n",
    "        print(f'{i}: A2 = {A2}, B2 = {B2}, mse = {mse2_(A2, B2)}')"
   ]
  },
  {
   "cell_type": "code",
   "execution_count": 24,
   "metadata": {},
   "outputs": [
    {
     "name": "stdout",
     "output_type": "stream",
     "text": [
      "0: A2 = 117.24451246197067, B2 = 5.026896958810238, mse = 33583.40970181045\n",
      "500000: A2 = 418.30438711494827, B2 = 2.8109744161903625, mse = 6640.220177729347\n",
      "1000000: A2 = 442.1298096460562, B2 = 2.635609662136104, mse = 6471.477679008628\n",
      "1500000: A2 = 444.01531750206647, B2 = 2.6217315610864835, mse = 6470.4208616318565\n",
      "2000000: A2 = 444.1645337382354, B2 = 2.6206332691874628, mse = 6470.414242890421\n",
      "2500000: A2 = 444.17634248517584, B2 = 2.6205463520299515, mse = 6470.414201437904\n",
      "3000000: A2 = 444.1772770115227, B2 = 2.620539473537755, mse = 6470.414201178296\n",
      "3500000: A2 = 444.17735096852226, B2 = 2.620538929184301, mse = 6470.414201176671\n",
      "4000000: A2 = 444.17735682134906, B2 = 2.620538886105127, mse = 6470.414201176662\n",
      "4500000: A2 = 444.1773572846247, B2 = 2.6205388826952305, mse = 6470.414201176658\n"
     ]
    }
   ],
   "source": [
    "for i in range(5000000):\n",
    "    A2 -= alpha * (2 / n) * np.sum((A2 + B2 * x) - y)\n",
    "    B2 -= alpha * (2 / n) * np.sum(((A2 + B2 * x) - y) * x)\n",
    "    if i%500000==0:\n",
    "        print(f'{i}: A2 = {A2}, B2 = {B2}, mse = {mse2_(A2, B2)}')\n"
   ]
  },
  {
   "cell_type": "code",
   "execution_count": 25,
   "metadata": {},
   "outputs": [
    {
     "data": {
      "text/html": [
       "<div>\n",
       "<style scoped>\n",
       "    .dataframe tbody tr th:only-of-type {\n",
       "        vertical-align: middle;\n",
       "    }\n",
       "\n",
       "    .dataframe tbody tr th {\n",
       "        vertical-align: top;\n",
       "    }\n",
       "\n",
       "    .dataframe thead th {\n",
       "        text-align: right;\n",
       "    }\n",
       "</style>\n",
       "<table border=\"1\" class=\"dataframe\">\n",
       "  <thead>\n",
       "    <tr style=\"text-align: right;\">\n",
       "      <th></th>\n",
       "      <th>x</th>\n",
       "      <th>y</th>\n",
       "      <th>y_pred_1</th>\n",
       "      <th>y_pred_2</th>\n",
       "      <th>y_pred_3</th>\n",
       "      <th>y_pred_4</th>\n",
       "    </tr>\n",
       "  </thead>\n",
       "  <tbody>\n",
       "    <tr>\n",
       "      <th>0</th>\n",
       "      <td>35.0</td>\n",
       "      <td>401.0</td>\n",
       "      <td>206.143715</td>\n",
       "      <td>535.896218</td>\n",
       "      <td>206.143715</td>\n",
       "      <td>535.896218</td>\n",
       "    </tr>\n",
       "    <tr>\n",
       "      <th>1</th>\n",
       "      <td>45.0</td>\n",
       "      <td>574.0</td>\n",
       "      <td>265.041919</td>\n",
       "      <td>562.101607</td>\n",
       "      <td>265.041919</td>\n",
       "      <td>562.101607</td>\n",
       "    </tr>\n",
       "    <tr>\n",
       "      <th>2</th>\n",
       "      <td>190.0</td>\n",
       "      <td>874.0</td>\n",
       "      <td>1119.065880</td>\n",
       "      <td>942.079745</td>\n",
       "      <td>1119.065880</td>\n",
       "      <td>942.079745</td>\n",
       "    </tr>\n",
       "    <tr>\n",
       "      <th>3</th>\n",
       "      <td>200.0</td>\n",
       "      <td>919.0</td>\n",
       "      <td>1177.964084</td>\n",
       "      <td>968.285134</td>\n",
       "      <td>1177.964084</td>\n",
       "      <td>968.285134</td>\n",
       "    </tr>\n",
       "    <tr>\n",
       "      <th>4</th>\n",
       "      <td>40.0</td>\n",
       "      <td>459.0</td>\n",
       "      <td>235.592817</td>\n",
       "      <td>548.998913</td>\n",
       "      <td>235.592817</td>\n",
       "      <td>548.998913</td>\n",
       "    </tr>\n",
       "    <tr>\n",
       "      <th>5</th>\n",
       "      <td>70.0</td>\n",
       "      <td>739.0</td>\n",
       "      <td>412.287429</td>\n",
       "      <td>627.615079</td>\n",
       "      <td>412.287429</td>\n",
       "      <td>627.615079</td>\n",
       "    </tr>\n",
       "    <tr>\n",
       "      <th>6</th>\n",
       "      <td>54.0</td>\n",
       "      <td>653.0</td>\n",
       "      <td>318.050303</td>\n",
       "      <td>585.686457</td>\n",
       "      <td>318.050303</td>\n",
       "      <td>585.686457</td>\n",
       "    </tr>\n",
       "    <tr>\n",
       "      <th>7</th>\n",
       "      <td>150.0</td>\n",
       "      <td>902.0</td>\n",
       "      <td>883.473063</td>\n",
       "      <td>837.258190</td>\n",
       "      <td>883.473063</td>\n",
       "      <td>837.258190</td>\n",
       "    </tr>\n",
       "    <tr>\n",
       "      <th>8</th>\n",
       "      <td>120.0</td>\n",
       "      <td>746.0</td>\n",
       "      <td>706.778450</td>\n",
       "      <td>758.642023</td>\n",
       "      <td>706.778450</td>\n",
       "      <td>758.642023</td>\n",
       "    </tr>\n",
       "    <tr>\n",
       "      <th>9</th>\n",
       "      <td>110.0</td>\n",
       "      <td>832.0</td>\n",
       "      <td>647.880246</td>\n",
       "      <td>732.436634</td>\n",
       "      <td>647.880246</td>\n",
       "      <td>732.436634</td>\n",
       "    </tr>\n",
       "  </tbody>\n",
       "</table>\n",
       "</div>"
      ],
      "text/plain": [
       "       x      y     y_pred_1    y_pred_2     y_pred_3    y_pred_4\n",
       "0   35.0  401.0   206.143715  535.896218   206.143715  535.896218\n",
       "1   45.0  574.0   265.041919  562.101607   265.041919  562.101607\n",
       "2  190.0  874.0  1119.065880  942.079745  1119.065880  942.079745\n",
       "3  200.0  919.0  1177.964084  968.285134  1177.964084  968.285134\n",
       "4   40.0  459.0   235.592817  548.998913   235.592817  548.998913\n",
       "5   70.0  739.0   412.287429  627.615079   412.287429  627.615079\n",
       "6   54.0  653.0   318.050303  585.686457   318.050303  585.686457\n",
       "7  150.0  902.0   883.473063  837.258190   883.473063  837.258190\n",
       "8  120.0  746.0   706.778450  758.642023   706.778450  758.642023\n",
       "9  110.0  832.0   647.880246  732.436634   647.880246  732.436634"
      ]
     },
     "execution_count": 25,
     "metadata": {},
     "output_type": "execute_result"
    }
   ],
   "source": [
    "y_pred_4 = A2 + B2 * x\n",
    "df['y_pred_4'] = y_pred_4\n",
    "df"
   ]
  },
  {
   "cell_type": "code",
   "execution_count": 26,
   "metadata": {},
   "outputs": [
    {
     "data": {
      "image/png": "[encoded data removed]",
      "text/plain": [
       "<Figure size 432x288 with 1 Axes>"
      ]
     },
     "metadata": {
      "needs_background": "light"
     },
     "output_type": "display_data"
    }
   ],
   "source": [
    "plt.scatter(df['x'], df['y'])\n",
    "plt.plot(df['x'], df['y_pred_4'], label='gradient_descent with intersept a=444.18 b=2.62', color='green')\n",
    "plt.xlabel('Заработная плата')\n",
    "plt.ylabel('Кредитный скоринг')\n",
    "plt.legend(loc=\"lower right\")\n",
    "plt.show()"
   ]
  },
  {
   "cell_type": "markdown",
   "metadata": {},
   "source": [
    "Все результаты на одном графике:"
   ]
  },
  {
   "cell_type": "code",
   "execution_count": 28,
   "metadata": {},
   "outputs": [
    {
     "data": {
      "image/png": "[encoded data removed]",
      "text/plain": [
       "<Figure size 432x288 with 1 Axes>"
      ]
     },
     "metadata": {
      "needs_background": "light"
     },
     "output_type": "display_data"
    }
   ],
   "source": [
    "plt.scatter(df['x'], df['y'])\n",
    "plt.plot(df['x'], df['y_pred_1'], label='without intersept a=0 b=5.89', color='blue')\n",
    "plt.plot(df['x'], df['y_pred_2'], label='with intersept a=444.18 b=2.62', color='green')\n",
    "plt.plot(df['x'], df['y_pred_3'], label='gradient_descent without intersept b=5.89', color='purple')\n",
    "plt.plot(df['x'], df['y_pred_4'], label='gradient_descent with intersept a=444.18 b=2.62', color='red')\n",
    "plt.xlabel('Заработная плата')\n",
    "plt.ylabel('Кредитный скоринг')\n",
    "plt.legend(loc=\"lower right\")\n",
    "plt.show()"
   ]
  },
  {
   "cell_type": "code",
   "execution_count": null,
   "metadata": {},
   "outputs": [],
   "source": []
  }
 ],
 "metadata": {
  "kernelspec": {
   "display_name": "Python 3",
   "language": "python",
   "name": "python3"
  },
  "language_info": {
   "codemirror_mode": {
    "name": "ipython",
    "version": 3
   },
   "file_extension": ".py",
   "mimetype": "text/x-python",
   "name": "python",
   "nbconvert_exporter": "python",
   "pygments_lexer": "ipython3",
   "version": "3.7.3"
  }
 },
 "nbformat": 4,
 "nbformat_minor": 2
}
